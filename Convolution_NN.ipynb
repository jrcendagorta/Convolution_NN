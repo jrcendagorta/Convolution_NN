{
  "nbformat": 4,
  "nbformat_minor": 0,
  "metadata": {
    "colab": {
      "name": "Convolution_NN.ipynb",
      "provenance": [],
      "collapsed_sections": [],
      "include_colab_link": true
    },
    "kernelspec": {
      "name": "python3",
      "display_name": "Python 3"
    },
    "accelerator": "GPU"
  },
  "cells": [
    {
      "cell_type": "markdown",
      "metadata": {
        "id": "view-in-github",
        "colab_type": "text"
      },
      "source": [
        "<a href=\"https://colab.research.google.com/github/jrcendagorta/Convolution_NN/blob/master/Convolution_NN.ipynb\" target=\"_parent\"><img src=\"https://colab.research.google.com/assets/colab-badge.svg\" alt=\"Open In Colab\"/></a>"
      ]
    },
    {
      "cell_type": "code",
      "metadata": {
        "id": "tS5xFeQwe9Xu",
        "colab_type": "code",
        "colab": {
          "base_uri": "https://localhost:8080/",
          "height": 35
        },
        "outputId": "ed76f67d-2b29-4be4-9ec9-3e977b00c4b6"
      },
      "source": [
        "import tensorflow as tf\n",
        "import matplotlib.pyplot as plt\n",
        "\n",
        "from tensorflow.keras.datasets import cifar10\n",
        "\n",
        "%matplotlib inline\n",
        "tf.__version__"
      ],
      "execution_count": 1,
      "outputs": [
        {
          "output_type": "execute_result",
          "data": {
            "text/plain": [
              "'2.2.0'"
            ]
          },
          "metadata": {
            "tags": []
          },
          "execution_count": 1
        }
      ]
    },
    {
      "cell_type": "code",
      "metadata": {
        "id": "v1N6LbS-e9a1",
        "colab_type": "code",
        "colab": {
          "base_uri": "https://localhost:8080/",
          "height": 53
        },
        "outputId": "63ccfc8c-d1a0-4fdb-ff00-65d93f846720"
      },
      "source": [
        "# Load and preprocess data\n",
        "\n",
        "#Setting class names for the dataset\n",
        "class_names = ['airplane', 'automobile', 'bird', 'cat', 'deer', 'dog', 'frog', 'horse', 'ship', 'truck']\n",
        "#Loading the dataset\n",
        "(X_train, y_train), (X_test, y_test) = cifar10.load_data()\n",
        "\n",
        "# Normalize Images [0,1]\n",
        "X_train = X_train / 255.0\n",
        "X_test = X_test / 255.0"
      ],
      "execution_count": 2,
      "outputs": [
        {
          "output_type": "stream",
          "text": [
            "Downloading data from https://www.cs.toronto.edu/~kriz/cifar-10-python.tar.gz\n",
            "170500096/170498071 [==============================] - 2s 0us/step\n"
          ],
          "name": "stdout"
        }
      ]
    },
    {
      "cell_type": "code",
      "metadata": {
        "id": "f13-8-m_fqKP",
        "colab_type": "code",
        "colab": {
          "base_uri": "https://localhost:8080/",
          "height": 1000
        },
        "outputId": "d3766812-7255-4b18-ad75-d931d4f9f52a"
      },
      "source": [
        "# Model Generation\n",
        "# Currently produces 79% error\n",
        "model = tf.keras.models.Sequential()\n",
        "model.add(tf.keras.layers.Conv2D(filters=32, kernel_size=3, activation=\"relu\", padding=\"same\", input_shape=[32, 32, 3]))\n",
        "model.add(tf.keras.layers.Conv2D(filters=32, kernel_size=3, activation=\"relu\", padding=\"same\"))\n",
        "model.add(tf.keras.layers.Dropout(0.2))\n",
        "model.add(tf.keras.layers.MaxPool2D(pool_size=2, strides=2,  padding='valid'))\n",
        "model.add(tf.keras.layers.Conv2D(filters=64, kernel_size=3, activation='relu', padding=\"same\"))\n",
        "model.add(tf.keras.layers.Conv2D(filters=64, kernel_size=3, activation='relu', padding=\"same\"))\n",
        "model.add(tf.keras.layers.Dropout(0.2))\n",
        "model.add(tf.keras.layers.MaxPool2D(pool_size=2, strides=2, padding='valid'))\n",
        "model.add(tf.keras.layers.Conv2D(filters=128, kernel_size=3, activation='relu', padding=\"same\"))\n",
        "model.add(tf.keras.layers.Conv2D(filters=128, kernel_size=3, activation='relu', padding=\"same\"))\n",
        "model.add(tf.keras.layers.Dropout(0.2))\n",
        "model.add(tf.keras.layers.MaxPool2D(pool_size=2, strides=2, padding='valid'))\n",
        "model.add(tf.keras.layers.Flatten())\n",
        "model.add(tf.keras.layers.Dense(units=256, activation='relu'))\n",
        "model.add(tf.keras.layers.Dropout(0.2))\n",
        "model.add(tf.keras.layers.Dense(units=128, activation='relu'))\n",
        "model.add(tf.keras.layers.Dropout(0.2))\n",
        "model.add(tf.keras.layers.Dense(units=10, activation='softmax'))\n",
        "model.summary()\n",
        "model.compile(loss=\"sparse_categorical_crossentropy\",\n",
        "              optimizer=tf.keras.optimizers.Adam(learning_rate=0.001), metrics=[\"sparse_categorical_accuracy\"])\n",
        "history = model.fit(X_train, y_train, epochs=100,validation_data=(X_test, y_test),batch_size=1000)"
      ],
      "execution_count": 6,
      "outputs": [
        {
          "output_type": "stream",
          "text": [
            "Model: \"sequential_2\"\n",
            "_________________________________________________________________\n",
            "Layer (type)                 Output Shape              Param #   \n",
            "=================================================================\n",
            "conv2d_12 (Conv2D)           (None, 32, 32, 32)        896       \n",
            "_________________________________________________________________\n",
            "conv2d_13 (Conv2D)           (None, 32, 32, 32)        9248      \n",
            "_________________________________________________________________\n",
            "dropout_10 (Dropout)         (None, 32, 32, 32)        0         \n",
            "_________________________________________________________________\n",
            "max_pooling2d_6 (MaxPooling2 (None, 16, 16, 32)        0         \n",
            "_________________________________________________________________\n",
            "conv2d_14 (Conv2D)           (None, 16, 16, 64)        18496     \n",
            "_________________________________________________________________\n",
            "conv2d_15 (Conv2D)           (None, 16, 16, 64)        36928     \n",
            "_________________________________________________________________\n",
            "dropout_11 (Dropout)         (None, 16, 16, 64)        0         \n",
            "_________________________________________________________________\n",
            "max_pooling2d_7 (MaxPooling2 (None, 8, 8, 64)          0         \n",
            "_________________________________________________________________\n",
            "conv2d_16 (Conv2D)           (None, 8, 8, 128)         73856     \n",
            "_________________________________________________________________\n",
            "conv2d_17 (Conv2D)           (None, 8, 8, 128)         147584    \n",
            "_________________________________________________________________\n",
            "dropout_12 (Dropout)         (None, 8, 8, 128)         0         \n",
            "_________________________________________________________________\n",
            "max_pooling2d_8 (MaxPooling2 (None, 4, 4, 128)         0         \n",
            "_________________________________________________________________\n",
            "flatten_2 (Flatten)          (None, 2048)              0         \n",
            "_________________________________________________________________\n",
            "dense_6 (Dense)              (None, 256)               524544    \n",
            "_________________________________________________________________\n",
            "dropout_13 (Dropout)         (None, 256)               0         \n",
            "_________________________________________________________________\n",
            "dense_7 (Dense)              (None, 128)               32896     \n",
            "_________________________________________________________________\n",
            "dropout_14 (Dropout)         (None, 128)               0         \n",
            "_________________________________________________________________\n",
            "dense_8 (Dense)              (None, 10)                1290      \n",
            "=================================================================\n",
            "Total params: 845,738\n",
            "Trainable params: 845,738\n",
            "Non-trainable params: 0\n",
            "_________________________________________________________________\n",
            "Epoch 1/100\n",
            "50/50 [==============================] - 9s 189ms/step - loss: 2.0206 - sparse_categorical_accuracy: 0.2413 - val_loss: 1.8206 - val_sparse_categorical_accuracy: 0.3798\n",
            "Epoch 2/100\n",
            "50/50 [==============================] - 9s 186ms/step - loss: 1.6462 - sparse_categorical_accuracy: 0.3947 - val_loss: 1.5528 - val_sparse_categorical_accuracy: 0.4631\n",
            "Epoch 3/100\n",
            "50/50 [==============================] - 9s 187ms/step - loss: 1.4575 - sparse_categorical_accuracy: 0.4651 - val_loss: 1.4465 - val_sparse_categorical_accuracy: 0.5187\n",
            "Epoch 4/100\n",
            "50/50 [==============================] - 9s 187ms/step - loss: 1.3069 - sparse_categorical_accuracy: 0.5294 - val_loss: 1.3275 - val_sparse_categorical_accuracy: 0.5461\n",
            "Epoch 5/100\n",
            "50/50 [==============================] - 9s 188ms/step - loss: 1.2014 - sparse_categorical_accuracy: 0.5716 - val_loss: 1.1911 - val_sparse_categorical_accuracy: 0.6045\n",
            "Epoch 6/100\n",
            "50/50 [==============================] - 9s 188ms/step - loss: 1.0989 - sparse_categorical_accuracy: 0.6088 - val_loss: 1.1073 - val_sparse_categorical_accuracy: 0.6404\n",
            "Epoch 7/100\n",
            "50/50 [==============================] - 9s 188ms/step - loss: 1.0013 - sparse_categorical_accuracy: 0.6459 - val_loss: 0.9949 - val_sparse_categorical_accuracy: 0.6703\n",
            "Epoch 8/100\n",
            "50/50 [==============================] - 9s 188ms/step - loss: 0.9171 - sparse_categorical_accuracy: 0.6786 - val_loss: 0.9870 - val_sparse_categorical_accuracy: 0.6694\n",
            "Epoch 9/100\n",
            "50/50 [==============================] - 9s 187ms/step - loss: 0.8545 - sparse_categorical_accuracy: 0.7000 - val_loss: 0.9168 - val_sparse_categorical_accuracy: 0.6947\n",
            "Epoch 10/100\n",
            "50/50 [==============================] - 9s 188ms/step - loss: 0.7898 - sparse_categorical_accuracy: 0.7250 - val_loss: 0.8688 - val_sparse_categorical_accuracy: 0.7120\n",
            "Epoch 11/100\n",
            "50/50 [==============================] - 9s 188ms/step - loss: 0.7386 - sparse_categorical_accuracy: 0.7412 - val_loss: 0.8106 - val_sparse_categorical_accuracy: 0.7214\n",
            "Epoch 12/100\n",
            "50/50 [==============================] - 9s 188ms/step - loss: 0.6977 - sparse_categorical_accuracy: 0.7572 - val_loss: 0.8279 - val_sparse_categorical_accuracy: 0.7213\n",
            "Epoch 13/100\n",
            "50/50 [==============================] - 9s 188ms/step - loss: 0.6472 - sparse_categorical_accuracy: 0.7728 - val_loss: 0.7709 - val_sparse_categorical_accuracy: 0.7398\n",
            "Epoch 14/100\n",
            "50/50 [==============================] - 9s 188ms/step - loss: 0.6110 - sparse_categorical_accuracy: 0.7867 - val_loss: 0.7204 - val_sparse_categorical_accuracy: 0.7552\n",
            "Epoch 15/100\n",
            "50/50 [==============================] - 9s 189ms/step - loss: 0.5769 - sparse_categorical_accuracy: 0.8002 - val_loss: 0.7307 - val_sparse_categorical_accuracy: 0.7476\n",
            "Epoch 16/100\n",
            "50/50 [==============================] - 9s 188ms/step - loss: 0.5262 - sparse_categorical_accuracy: 0.8164 - val_loss: 0.6955 - val_sparse_categorical_accuracy: 0.7603\n",
            "Epoch 17/100\n",
            "50/50 [==============================] - 9s 187ms/step - loss: 0.5003 - sparse_categorical_accuracy: 0.8265 - val_loss: 0.6873 - val_sparse_categorical_accuracy: 0.7634\n",
            "Epoch 18/100\n",
            "50/50 [==============================] - 9s 187ms/step - loss: 0.4743 - sparse_categorical_accuracy: 0.8333 - val_loss: 0.6782 - val_sparse_categorical_accuracy: 0.7688\n",
            "Epoch 19/100\n",
            "50/50 [==============================] - 9s 187ms/step - loss: 0.4488 - sparse_categorical_accuracy: 0.8425 - val_loss: 0.6742 - val_sparse_categorical_accuracy: 0.7652\n",
            "Epoch 20/100\n",
            "50/50 [==============================] - 9s 187ms/step - loss: 0.4081 - sparse_categorical_accuracy: 0.8567 - val_loss: 0.6564 - val_sparse_categorical_accuracy: 0.7724\n",
            "Epoch 21/100\n",
            "50/50 [==============================] - 9s 187ms/step - loss: 0.3822 - sparse_categorical_accuracy: 0.8656 - val_loss: 0.6540 - val_sparse_categorical_accuracy: 0.7754\n",
            "Epoch 22/100\n",
            "50/50 [==============================] - 9s 187ms/step - loss: 0.3665 - sparse_categorical_accuracy: 0.8712 - val_loss: 0.6546 - val_sparse_categorical_accuracy: 0.7764\n",
            "Epoch 23/100\n",
            "50/50 [==============================] - 9s 188ms/step - loss: 0.3442 - sparse_categorical_accuracy: 0.8791 - val_loss: 0.6671 - val_sparse_categorical_accuracy: 0.7719\n",
            "Epoch 24/100\n",
            "50/50 [==============================] - 9s 189ms/step - loss: 0.3273 - sparse_categorical_accuracy: 0.8842 - val_loss: 0.6904 - val_sparse_categorical_accuracy: 0.7662\n",
            "Epoch 25/100\n",
            "50/50 [==============================] - 9s 187ms/step - loss: 0.3160 - sparse_categorical_accuracy: 0.8877 - val_loss: 0.6705 - val_sparse_categorical_accuracy: 0.7767\n",
            "Epoch 26/100\n",
            "50/50 [==============================] - 9s 187ms/step - loss: 0.2829 - sparse_categorical_accuracy: 0.8992 - val_loss: 0.6627 - val_sparse_categorical_accuracy: 0.7800\n",
            "Epoch 27/100\n",
            "50/50 [==============================] - 9s 188ms/step - loss: 0.2828 - sparse_categorical_accuracy: 0.9006 - val_loss: 0.6605 - val_sparse_categorical_accuracy: 0.7792\n",
            "Epoch 28/100\n",
            "50/50 [==============================] - 9s 187ms/step - loss: 0.2552 - sparse_categorical_accuracy: 0.9089 - val_loss: 0.6718 - val_sparse_categorical_accuracy: 0.7792\n",
            "Epoch 29/100\n",
            "50/50 [==============================] - 9s 188ms/step - loss: 0.2409 - sparse_categorical_accuracy: 0.9147 - val_loss: 0.6676 - val_sparse_categorical_accuracy: 0.7801\n",
            "Epoch 30/100\n",
            "50/50 [==============================] - 9s 188ms/step - loss: 0.2261 - sparse_categorical_accuracy: 0.9193 - val_loss: 0.6797 - val_sparse_categorical_accuracy: 0.7767\n",
            "Epoch 31/100\n",
            "50/50 [==============================] - 9s 188ms/step - loss: 0.2198 - sparse_categorical_accuracy: 0.9216 - val_loss: 0.6988 - val_sparse_categorical_accuracy: 0.7760\n",
            "Epoch 32/100\n",
            "50/50 [==============================] - 9s 187ms/step - loss: 0.1997 - sparse_categorical_accuracy: 0.9291 - val_loss: 0.6774 - val_sparse_categorical_accuracy: 0.7840\n",
            "Epoch 33/100\n",
            "50/50 [==============================] - 9s 188ms/step - loss: 0.1914 - sparse_categorical_accuracy: 0.9329 - val_loss: 0.7011 - val_sparse_categorical_accuracy: 0.7794\n",
            "Epoch 34/100\n",
            "50/50 [==============================] - 9s 188ms/step - loss: 0.2020 - sparse_categorical_accuracy: 0.9284 - val_loss: 0.7341 - val_sparse_categorical_accuracy: 0.7682\n",
            "Epoch 35/100\n",
            "50/50 [==============================] - 9s 187ms/step - loss: 0.1876 - sparse_categorical_accuracy: 0.9325 - val_loss: 0.7120 - val_sparse_categorical_accuracy: 0.7769\n",
            "Epoch 36/100\n",
            "50/50 [==============================] - 9s 187ms/step - loss: 0.1786 - sparse_categorical_accuracy: 0.9360 - val_loss: 0.7749 - val_sparse_categorical_accuracy: 0.7672\n",
            "Epoch 37/100\n",
            "50/50 [==============================] - 9s 187ms/step - loss: 0.1717 - sparse_categorical_accuracy: 0.9405 - val_loss: 0.7140 - val_sparse_categorical_accuracy: 0.7860\n",
            "Epoch 38/100\n",
            "50/50 [==============================] - 9s 187ms/step - loss: 0.1528 - sparse_categorical_accuracy: 0.9469 - val_loss: 0.6813 - val_sparse_categorical_accuracy: 0.7885\n",
            "Epoch 39/100\n",
            "50/50 [==============================] - 9s 187ms/step - loss: 0.1533 - sparse_categorical_accuracy: 0.9471 - val_loss: 0.7566 - val_sparse_categorical_accuracy: 0.7746\n",
            "Epoch 40/100\n",
            "50/50 [==============================] - 9s 187ms/step - loss: 0.1467 - sparse_categorical_accuracy: 0.9477 - val_loss: 0.7528 - val_sparse_categorical_accuracy: 0.7809\n",
            "Epoch 41/100\n",
            "50/50 [==============================] - 9s 187ms/step - loss: 0.1584 - sparse_categorical_accuracy: 0.9448 - val_loss: 0.7283 - val_sparse_categorical_accuracy: 0.7805\n",
            "Epoch 42/100\n",
            "50/50 [==============================] - 9s 188ms/step - loss: 0.1358 - sparse_categorical_accuracy: 0.9512 - val_loss: 0.7770 - val_sparse_categorical_accuracy: 0.7787\n",
            "Epoch 43/100\n",
            "50/50 [==============================] - 9s 187ms/step - loss: 0.1328 - sparse_categorical_accuracy: 0.9540 - val_loss: 0.7485 - val_sparse_categorical_accuracy: 0.7853\n",
            "Epoch 44/100\n",
            "50/50 [==============================] - 9s 189ms/step - loss: 0.1308 - sparse_categorical_accuracy: 0.9544 - val_loss: 0.7485 - val_sparse_categorical_accuracy: 0.7881\n",
            "Epoch 45/100\n",
            "50/50 [==============================] - 9s 187ms/step - loss: 0.1199 - sparse_categorical_accuracy: 0.9596 - val_loss: 0.7945 - val_sparse_categorical_accuracy: 0.7839\n",
            "Epoch 46/100\n",
            "50/50 [==============================] - 9s 187ms/step - loss: 0.1274 - sparse_categorical_accuracy: 0.9564 - val_loss: 0.7710 - val_sparse_categorical_accuracy: 0.7833\n",
            "Epoch 47/100\n",
            "50/50 [==============================] - 9s 187ms/step - loss: 0.1187 - sparse_categorical_accuracy: 0.9576 - val_loss: 0.7921 - val_sparse_categorical_accuracy: 0.7814\n",
            "Epoch 48/100\n",
            "50/50 [==============================] - 9s 188ms/step - loss: 0.1169 - sparse_categorical_accuracy: 0.9603 - val_loss: 0.7916 - val_sparse_categorical_accuracy: 0.7835\n",
            "Epoch 49/100\n",
            "50/50 [==============================] - 9s 187ms/step - loss: 0.1135 - sparse_categorical_accuracy: 0.9603 - val_loss: 0.7991 - val_sparse_categorical_accuracy: 0.7772\n",
            "Epoch 50/100\n",
            "50/50 [==============================] - 9s 187ms/step - loss: 0.1120 - sparse_categorical_accuracy: 0.9606 - val_loss: 0.8003 - val_sparse_categorical_accuracy: 0.7856\n",
            "Epoch 51/100\n",
            "50/50 [==============================] - 9s 188ms/step - loss: 0.1025 - sparse_categorical_accuracy: 0.9641 - val_loss: 0.7815 - val_sparse_categorical_accuracy: 0.7889\n",
            "Epoch 52/100\n",
            "50/50 [==============================] - 9s 187ms/step - loss: 0.1020 - sparse_categorical_accuracy: 0.9649 - val_loss: 0.7952 - val_sparse_categorical_accuracy: 0.7837\n",
            "Epoch 53/100\n",
            "50/50 [==============================] - 9s 188ms/step - loss: 0.1015 - sparse_categorical_accuracy: 0.9652 - val_loss: 0.7783 - val_sparse_categorical_accuracy: 0.7863\n",
            "Epoch 54/100\n",
            "50/50 [==============================] - 9s 187ms/step - loss: 0.1109 - sparse_categorical_accuracy: 0.9610 - val_loss: 0.7442 - val_sparse_categorical_accuracy: 0.7854\n",
            "Epoch 55/100\n",
            "50/50 [==============================] - 9s 187ms/step - loss: 0.1055 - sparse_categorical_accuracy: 0.9640 - val_loss: 0.8296 - val_sparse_categorical_accuracy: 0.7874\n",
            "Epoch 56/100\n",
            "50/50 [==============================] - 9s 187ms/step - loss: 0.0903 - sparse_categorical_accuracy: 0.9682 - val_loss: 0.8198 - val_sparse_categorical_accuracy: 0.7854\n",
            "Epoch 57/100\n",
            "50/50 [==============================] - 9s 187ms/step - loss: 0.0926 - sparse_categorical_accuracy: 0.9691 - val_loss: 0.7991 - val_sparse_categorical_accuracy: 0.7858\n",
            "Epoch 58/100\n",
            "50/50 [==============================] - 9s 188ms/step - loss: 0.0966 - sparse_categorical_accuracy: 0.9667 - val_loss: 0.8275 - val_sparse_categorical_accuracy: 0.7854\n",
            "Epoch 59/100\n",
            "50/50 [==============================] - 9s 188ms/step - loss: 0.0941 - sparse_categorical_accuracy: 0.9680 - val_loss: 0.8085 - val_sparse_categorical_accuracy: 0.7899\n",
            "Epoch 60/100\n",
            "50/50 [==============================] - 9s 188ms/step - loss: 0.0903 - sparse_categorical_accuracy: 0.9689 - val_loss: 0.7685 - val_sparse_categorical_accuracy: 0.7905\n",
            "Epoch 61/100\n",
            "50/50 [==============================] - 9s 187ms/step - loss: 0.0989 - sparse_categorical_accuracy: 0.9660 - val_loss: 0.7961 - val_sparse_categorical_accuracy: 0.7864\n",
            "Epoch 62/100\n",
            "50/50 [==============================] - 9s 187ms/step - loss: 0.0890 - sparse_categorical_accuracy: 0.9693 - val_loss: 0.8684 - val_sparse_categorical_accuracy: 0.7819\n",
            "Epoch 63/100\n",
            "50/50 [==============================] - 9s 187ms/step - loss: 0.0856 - sparse_categorical_accuracy: 0.9712 - val_loss: 0.8032 - val_sparse_categorical_accuracy: 0.7862\n",
            "Epoch 64/100\n",
            "50/50 [==============================] - 9s 188ms/step - loss: 0.0793 - sparse_categorical_accuracy: 0.9724 - val_loss: 0.8137 - val_sparse_categorical_accuracy: 0.7887\n",
            "Epoch 65/100\n",
            "50/50 [==============================] - 9s 188ms/step - loss: 0.0752 - sparse_categorical_accuracy: 0.9738 - val_loss: 0.8632 - val_sparse_categorical_accuracy: 0.7920\n",
            "Epoch 66/100\n",
            "50/50 [==============================] - 9s 187ms/step - loss: 0.0805 - sparse_categorical_accuracy: 0.9727 - val_loss: 0.8616 - val_sparse_categorical_accuracy: 0.7823\n",
            "Epoch 67/100\n",
            "50/50 [==============================] - 9s 187ms/step - loss: 0.0856 - sparse_categorical_accuracy: 0.9700 - val_loss: 0.8683 - val_sparse_categorical_accuracy: 0.7834\n",
            "Epoch 68/100\n",
            "50/50 [==============================] - 9s 187ms/step - loss: 0.0845 - sparse_categorical_accuracy: 0.9708 - val_loss: 0.8309 - val_sparse_categorical_accuracy: 0.7877\n",
            "Epoch 69/100\n",
            "50/50 [==============================] - 9s 187ms/step - loss: 0.0785 - sparse_categorical_accuracy: 0.9729 - val_loss: 0.8375 - val_sparse_categorical_accuracy: 0.7867\n",
            "Epoch 70/100\n",
            "50/50 [==============================] - 9s 187ms/step - loss: 0.0768 - sparse_categorical_accuracy: 0.9741 - val_loss: 0.8543 - val_sparse_categorical_accuracy: 0.7904\n",
            "Epoch 71/100\n",
            "50/50 [==============================] - 9s 187ms/step - loss: 0.0738 - sparse_categorical_accuracy: 0.9744 - val_loss: 0.8175 - val_sparse_categorical_accuracy: 0.7889\n",
            "Epoch 72/100\n",
            "50/50 [==============================] - 9s 187ms/step - loss: 0.0785 - sparse_categorical_accuracy: 0.9733 - val_loss: 0.8566 - val_sparse_categorical_accuracy: 0.7846\n",
            "Epoch 73/100\n",
            "50/50 [==============================] - 9s 187ms/step - loss: 0.0790 - sparse_categorical_accuracy: 0.9739 - val_loss: 0.8578 - val_sparse_categorical_accuracy: 0.7876\n",
            "Epoch 74/100\n",
            "50/50 [==============================] - 9s 188ms/step - loss: 0.0823 - sparse_categorical_accuracy: 0.9722 - val_loss: 0.8056 - val_sparse_categorical_accuracy: 0.7875\n",
            "Epoch 75/100\n",
            "50/50 [==============================] - 9s 187ms/step - loss: 0.0701 - sparse_categorical_accuracy: 0.9757 - val_loss: 0.8590 - val_sparse_categorical_accuracy: 0.7867\n",
            "Epoch 76/100\n",
            "50/50 [==============================] - 9s 187ms/step - loss: 0.0691 - sparse_categorical_accuracy: 0.9766 - val_loss: 0.8655 - val_sparse_categorical_accuracy: 0.7878\n",
            "Epoch 77/100\n",
            "50/50 [==============================] - 9s 187ms/step - loss: 0.0713 - sparse_categorical_accuracy: 0.9756 - val_loss: 0.8324 - val_sparse_categorical_accuracy: 0.7888\n",
            "Epoch 78/100\n",
            "50/50 [==============================] - 9s 187ms/step - loss: 0.0658 - sparse_categorical_accuracy: 0.9778 - val_loss: 0.9032 - val_sparse_categorical_accuracy: 0.7838\n",
            "Epoch 79/100\n",
            "50/50 [==============================] - 9s 188ms/step - loss: 0.0723 - sparse_categorical_accuracy: 0.9752 - val_loss: 0.8484 - val_sparse_categorical_accuracy: 0.7912\n",
            "Epoch 80/100\n",
            "50/50 [==============================] - 9s 188ms/step - loss: 0.0718 - sparse_categorical_accuracy: 0.9760 - val_loss: 0.8332 - val_sparse_categorical_accuracy: 0.7860\n",
            "Epoch 81/100\n",
            "50/50 [==============================] - 9s 188ms/step - loss: 0.0725 - sparse_categorical_accuracy: 0.9754 - val_loss: 0.8380 - val_sparse_categorical_accuracy: 0.7890\n",
            "Epoch 82/100\n",
            "50/50 [==============================] - 9s 187ms/step - loss: 0.0661 - sparse_categorical_accuracy: 0.9775 - val_loss: 0.8519 - val_sparse_categorical_accuracy: 0.7891\n",
            "Epoch 83/100\n",
            "50/50 [==============================] - 9s 187ms/step - loss: 0.0641 - sparse_categorical_accuracy: 0.9790 - val_loss: 0.8313 - val_sparse_categorical_accuracy: 0.7925\n",
            "Epoch 84/100\n",
            "50/50 [==============================] - 9s 187ms/step - loss: 0.0641 - sparse_categorical_accuracy: 0.9783 - val_loss: 0.8736 - val_sparse_categorical_accuracy: 0.7902\n",
            "Epoch 85/100\n",
            "50/50 [==============================] - 9s 188ms/step - loss: 0.0729 - sparse_categorical_accuracy: 0.9751 - val_loss: 0.8563 - val_sparse_categorical_accuracy: 0.7861\n",
            "Epoch 86/100\n",
            "50/50 [==============================] - 9s 187ms/step - loss: 0.0689 - sparse_categorical_accuracy: 0.9765 - val_loss: 0.9138 - val_sparse_categorical_accuracy: 0.7800\n",
            "Epoch 87/100\n",
            "50/50 [==============================] - 9s 188ms/step - loss: 0.0611 - sparse_categorical_accuracy: 0.9794 - val_loss: 0.8814 - val_sparse_categorical_accuracy: 0.7936\n",
            "Epoch 88/100\n",
            "50/50 [==============================] - 9s 187ms/step - loss: 0.0640 - sparse_categorical_accuracy: 0.9781 - val_loss: 0.8815 - val_sparse_categorical_accuracy: 0.7913\n",
            "Epoch 89/100\n",
            "50/50 [==============================] - 9s 188ms/step - loss: 0.0660 - sparse_categorical_accuracy: 0.9780 - val_loss: 0.8794 - val_sparse_categorical_accuracy: 0.7872\n",
            "Epoch 90/100\n",
            "50/50 [==============================] - 9s 188ms/step - loss: 0.0600 - sparse_categorical_accuracy: 0.9794 - val_loss: 0.8853 - val_sparse_categorical_accuracy: 0.7931\n",
            "Epoch 91/100\n",
            "50/50 [==============================] - 9s 188ms/step - loss: 0.0586 - sparse_categorical_accuracy: 0.9803 - val_loss: 0.9026 - val_sparse_categorical_accuracy: 0.7921\n",
            "Epoch 92/100\n",
            "50/50 [==============================] - 9s 187ms/step - loss: 0.0627 - sparse_categorical_accuracy: 0.9795 - val_loss: 0.8281 - val_sparse_categorical_accuracy: 0.7927\n",
            "Epoch 93/100\n",
            "50/50 [==============================] - 9s 187ms/step - loss: 0.0578 - sparse_categorical_accuracy: 0.9805 - val_loss: 0.8820 - val_sparse_categorical_accuracy: 0.7895\n",
            "Epoch 94/100\n",
            "50/50 [==============================] - 9s 187ms/step - loss: 0.0590 - sparse_categorical_accuracy: 0.9805 - val_loss: 0.9068 - val_sparse_categorical_accuracy: 0.7877\n",
            "Epoch 95/100\n",
            "50/50 [==============================] - 9s 186ms/step - loss: 0.0592 - sparse_categorical_accuracy: 0.9798 - val_loss: 0.8573 - val_sparse_categorical_accuracy: 0.7939\n",
            "Epoch 96/100\n",
            "50/50 [==============================] - 9s 186ms/step - loss: 0.0614 - sparse_categorical_accuracy: 0.9792 - val_loss: 0.8838 - val_sparse_categorical_accuracy: 0.7903\n",
            "Epoch 97/100\n",
            "50/50 [==============================] - 9s 186ms/step - loss: 0.0573 - sparse_categorical_accuracy: 0.9800 - val_loss: 0.9086 - val_sparse_categorical_accuracy: 0.7898\n",
            "Epoch 98/100\n",
            "50/50 [==============================] - 9s 185ms/step - loss: 0.0619 - sparse_categorical_accuracy: 0.9792 - val_loss: 0.8770 - val_sparse_categorical_accuracy: 0.7878\n",
            "Epoch 99/100\n",
            "50/50 [==============================] - 9s 185ms/step - loss: 0.0542 - sparse_categorical_accuracy: 0.9827 - val_loss: 0.9675 - val_sparse_categorical_accuracy: 0.7842\n",
            "Epoch 100/100\n",
            "50/50 [==============================] - 9s 185ms/step - loss: 0.0654 - sparse_categorical_accuracy: 0.9777 - val_loss: 0.8711 - val_sparse_categorical_accuracy: 0.7905\n"
          ],
          "name": "stdout"
        }
      ]
    },
    {
      "cell_type": "code",
      "metadata": {
        "id": "Z9r8TtNet3D0",
        "colab_type": "code",
        "colab": {
          "base_uri": "https://localhost:8080/",
          "height": 35
        },
        "outputId": "a3b0557b-e165-4090-b73d-8917355cb809"
      },
      "source": [
        "test_loss, test_accuracy = model.evaluate(X_test, y_test)"
      ],
      "execution_count": 7,
      "outputs": [
        {
          "output_type": "stream",
          "text": [
            "313/313 [==============================] - 2s 7ms/step - loss: 0.8711 - sparse_categorical_accuracy: 0.7905\n"
          ],
          "name": "stdout"
        }
      ]
    },
    {
      "cell_type": "code",
      "metadata": {
        "id": "0rpAPpfzuV0p",
        "colab_type": "code",
        "colab": {
          "base_uri": "https://localhost:8080/",
          "height": 283
        },
        "outputId": "a886a7ae-088d-401a-b722-36a7a54efd23"
      },
      "source": [
        "plt.plot(history.history['sparse_categorical_accuracy'])\n",
        "plt.plot(history.history['val_sparse_categorical_accuracy'])"
      ],
      "execution_count": 9,
      "outputs": [
        {
          "output_type": "execute_result",
          "data": {
            "text/plain": [
              "[<matplotlib.lines.Line2D at 0x7f5882adecc0>]"
            ]
          },
          "metadata": {
            "tags": []
          },
          "execution_count": 9
        },
        {
          "output_type": "display_data",
          "data": {
            "image/png": "[encoded data removed]",
            "text/plain": [
              "<Figure size 432x288 with 1 Axes>"
            ]
          },
          "metadata": {
            "tags": [],
            "needs_background": "light"
          }
        }
      ]
    },
    {
      "cell_type": "code",
      "metadata": {
        "id": "VSKfLqi5urEh",
        "colab_type": "code",
        "colab": {}
      },
      "source": [
        ""
      ],
      "execution_count": null,
      "outputs": []
    }
  ]
}